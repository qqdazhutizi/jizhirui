{
 "cells": [
  {
   "cell_type": "markdown",
   "metadata": {},
   "source": [
    "# 第一题"
   ]
  },
  {
   "cell_type": "code",
   "execution_count": null,
   "metadata": {},
   "outputs": [],
   "source": [
    "celsius = eval(input('Enter a degree in celsius: '))\n",
    "fahrenheit = ( 9 / 5 ) * celsius + 32\n",
    "print(\"%d celsius is %.1f Fahrenheit\" %(celsius , fahrenheit))"
   ]
  },
  {
   "cell_type": "markdown",
   "metadata": {},
   "source": [
    "# 第二题"
   ]
  },
  {
   "cell_type": "code",
   "execution_count": null,
   "metadata": {},
   "outputs": [],
   "source": [
    "from math import *\n",
    "radius,length = input('Enter the radius and length of a cylinder: ').split(',')\n",
    "radius=float(radius)\n",
    "length=float(length)\n",
    "area = radius * radius * 3.1415926\n",
    "print(\"the area is %.4f \" %area)\n",
    "print(\"the volume is %.1f\" %(area * length))"
   ]
  },
  {
   "cell_type": "markdown",
   "metadata": {},
   "source": [
    "# 第三题"
   ]
  },
  {
   "cell_type": "code",
   "execution_count": null,
   "metadata": {},
   "outputs": [],
   "source": [
    "yingchi = eval(input('Enter a value for feet: '))\n",
    "meters =  yingchi*0.305\n",
    "meters=round(meters,4)\n",
    "print(\"%.1f feet is %.4f meters \"%( yingchi,meters))"
   ]
  },
  {
   "cell_type": "markdown",
   "metadata": {},
   "source": [
    "# 第四题"
   ]
  },
  {
   "cell_type": "code",
   "execution_count": null,
   "metadata": {},
   "outputs": [],
   "source": [
    "zhiliang = eval(input('Enter the amount of water in kilograms: '))\n",
    "initial = eval(input('Enter the initial temperature: '))\n",
    "final = eval(input('Enter the final temperature: '))\n",
    "qq= zhiliang * (final - initial) * 4184\n",
    "print(\"The energy needed is %.1f\" %qq)"
   ]
  },
  {
   "cell_type": "markdown",
   "metadata": {},
   "source": [
    "# 第五题"
   ]
  },
  {
   "cell_type": "code",
   "execution_count": null,
   "metadata": {},
   "outputs": [],
   "source": [
    "balance,rate = input('Enter balance and interest rate (e.g., 3 for 3%): ').split(',')\n",
    "balance=float(balance)\n",
    "rate=float(rate)\n",
    "print(\"The interest is %.5f\" %(balance * rate / 1200))"
   ]
  },
  {
   "cell_type": "markdown",
   "metadata": {},
   "source": [
    "# 第六题"
   ]
  },
  {
   "cell_type": "code",
   "execution_count": null,
   "metadata": {},
   "outputs": [],
   "source": [
    "v0,v1,t=input(\"Enter v0, v1, and t: \").split(',')\n",
    "v0=float(v0)\n",
    "v1=float(v1)\n",
    "t=float(t)\n",
    "a=(v1-v0)/t\n",
    "print(\"The average acceleration is %.4f\" %a)"
   ]
  },
  {
   "cell_type": "markdown",
   "metadata": {},
   "source": [
    "# 第七题"
   ]
  },
  {
   "cell_type": "code",
   "execution_count": null,
   "metadata": {},
   "outputs": [],
   "source": [
    "money1=eval(input('Enter the monthly saving amount: '))\n",
    "i=1\n",
    "money2=0.0\n",
    "sum1=0.0\n",
    "print(money1)\n",
    "while(i<7):\n",
    "    money2 = money1 + money2\n",
    "    sum1 = money2 * (1+0.00417)\n",
    "    money2 = sum1\n",
    "    i+=1\n",
    "\n",
    "print(\"After the sixth month , the account value is %.2f\" % sum1)"
   ]
  },
  {
   "cell_type": "markdown",
   "metadata": {},
   "source": [
    "# 第八题"
   ]
  },
  {
   "cell_type": "code",
   "execution_count": null,
   "metadata": {},
   "outputs": [],
   "source": [
    "number = eval(input('Enter a number between 0 and 999: '))\n",
    "a=number//100\n",
    "b=number//10%10\n",
    "c=number%10\n",
    "print(\"The sum of the digits is %d\" %(a+b+c))"
   ]
  }
 ],
 "metadata": {
  "kernelspec": {
   "display_name": "Python 3",
   "language": "python",
   "name": "python3"
  },
  "language_info": {
   "codemirror_mode": {
    "name": "ipython",
    "version": 3
   },
   "file_extension": ".py",
   "mimetype": "text/x-python",
   "name": "python",
   "nbconvert_exporter": "python",
   "pygments_lexer": "ipython3",
   "version": "3.6.4"
  }
 },
 "nbformat": 4,
 "nbformat_minor": 2
}
