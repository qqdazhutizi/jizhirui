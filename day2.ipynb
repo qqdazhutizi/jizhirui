{
 "cells": [
  {
   "cell_type": "markdown",
   "metadata": {},
   "source": [
    "# 一"
   ]
  },
  {
   "cell_type": "code",
   "execution_count": null,
   "metadata": {},
   "outputs": [],
   "source": [
    "import math\n",
    "\n",
    "r = eval(input('Enter the radiu from the center to a vertex: '))\n",
    "s = 2 * r * math.sin(math.pi/5)\n",
    "area = 5 * s * s /(4 * math.tan(math.pi/5))\n",
    "print(\"The area of the pentagon is %.2f\" %area)"
   ]
  },
  {
   "cell_type": "markdown",
   "metadata": {},
   "source": [
    "# 二"
   ]
  },
  {
   "cell_type": "code",
   "execution_count": null,
   "metadata": {},
   "outputs": [],
   "source": [
    "import math\n",
    "\n",
    "radius = 6371.01\n",
    "x1,y1 = input('Enter point 1 (latitude and longitude) in degress: ').split(',')\n",
    "x2,y2 = input('Enter point 2 (latitude and longitude) in degress: ').split(',')\n",
    "x1 = float(x1)\n",
    "x2 = float(x2)\n",
    "y1 = float(y1)\n",
    "y2 = float(y2)\n",
    "\n",
    "x1 = math.radians(x1)\n",
    "x2 = math.radians(x2)\n",
    "y1 = math.radians(y1)\n",
    "y2 = math.radians(y2)\n",
    "\n",
    "d = radius * math.acos(math.sin(x1) * math.sin(x2) + math.cos(x1) * math.cos(x2) * math.cos(y1-y2))\n",
    "\n",
    "print(\"The distance between the two points is %.11f\"%d)"
   ]
  },
  {
   "cell_type": "markdown",
   "metadata": {},
   "source": [
    "# 三"
   ]
  },
  {
   "cell_type": "code",
   "execution_count": null,
   "metadata": {},
   "outputs": [],
   "source": [
    "import math\n",
    "\n",
    "side = eval(input('Enter the side: '))\n",
    "area = 5 * side ** 2 / (4*(math.tan(math.pi/5)))\n",
    "print('The area of the pentagon is %f' %area)"
   ]
  },
  {
   "cell_type": "markdown",
   "metadata": {},
   "source": [
    "# 四"
   ]
  },
  {
   "cell_type": "code",
   "execution_count": null,
   "metadata": {},
   "outputs": [],
   "source": [
    "import math\n",
    "\n",
    "s_number = eval(input('Enter the number of sides: '))\n",
    "s_length = eval(input('Enter the side: '))\n",
    "\n",
    "area = s_number * s_length ** 2 / (4 * math.tan(math.pi/s_number))\n",
    "\n",
    "print(\"The area of the polygon is %f\" %area)"
   ]
  },
  {
   "cell_type": "markdown",
   "metadata": {},
   "source": [
    "# 五"
   ]
  },
  {
   "cell_type": "code",
   "execution_count": null,
   "metadata": {},
   "outputs": [],
   "source": [
    "num = int(input('Enter an ACSII code: '))\n",
    "str1 = chr(num)\n",
    "print('The character is ',str1)"
   ]
  },
  {
   "cell_type": "markdown",
   "metadata": {},
   "source": [
    "# 六"
   ]
  },
  {
   "cell_type": "code",
   "execution_count": null,
   "metadata": {},
   "outputs": [],
   "source": [
    "name = input('Enter the employee\\'s name: ')\n",
    "work_time = eval(input('Enter number of worked in a week: '))\n",
    "rate = eval(input('Enter hourly pay rate: '))\n",
    "tax1 = eval(input('Enter federal tax withholding rate: '))\n",
    "tax2 = eval(input('Enter state tax withholding rate: '))\n",
    "\n",
    "print(\"Employee\\'s name: \",name)\n",
    "print(\"Hours Worked: %.1f\" % work_time)\n",
    "print(\"Pay Rate: $%.2f\" %rate)\n",
    "print(\"Gross Pay: $%.2f\" %(rate * work_time))\n",
    "sum_rate = rate * work_time\n",
    "w_tax2=(tax2*sum_rate)\n",
    "w_tax1=(tax1*sum_rate)\n",
    "print(\"Deducttions:\\n\\tFederal Withholding %f : %.2f\\n\\t state Withholding (%f ): %.2f\\n\\t Total Decution : %.2f\" %(tax1,w_tax1,tax2,w_tax2,(w_tax1 + w_tax2)))\n",
    "print(\"net pay %.2f\" %(sum_rate -(w_tax1 + w_tax2)))"
   ]
  },
  {
   "cell_type": "markdown",
   "metadata": {},
   "source": [
    "# 七"
   ]
  },
  {
   "cell_type": "code",
   "execution_count": null,
   "metadata": {},
   "outputs": [],
   "source": [
    "number = input('Enter an integer: ')\n",
    "\n",
    "i = len(number) - 1\n",
    "print('The reversed number is ',end='')\n",
    "while (i>=0):\n",
    "    print(number[i],end='')\n",
    "    i-=1\n",
    "print()"
   ]
  },
  {
   "cell_type": "markdown",
   "metadata": {},
   "source": [
    "# 八"
   ]
  },
  {
   "cell_type": "code",
   "execution_count": null,
   "metadata": {},
   "outputs": [],
   "source": [
    "email = 'laozhou0415@163.com'\n",
    "re_text=''\n",
    "for i in email:\n",
    "    text = ord(i) + 1\n",
    "    re_text = re_text + chr(text)\n",
    "print('加密后为：',re_text)\n",
    "\n",
    "re_text1=''\n",
    "for i in re_text:\n",
    "    text = ord(i) - 1\n",
    "    re_text1 = re_text1 + chr(text)\n",
    "print('解密：',re_text1)\n",
    "\n",
    "outputfile = open(\"D:\\day02.txt\",'w')\n",
    "outputfile.write(re_text1)\n",
    "outputfile.close()"
   ]
  }
 ],
 "metadata": {
  "kernelspec": {
   "display_name": "Python 3",
   "language": "python",
   "name": "python3"
  },
  "language_info": {
   "codemirror_mode": {
    "name": "ipython",
    "version": 3
   },
   "file_extension": ".py",
   "mimetype": "text/x-python",
   "name": "python",
   "nbconvert_exporter": "python",
   "pygments_lexer": "ipython3",
   "version": "3.6.4"
  }
 },
 "nbformat": 4,
 "nbformat_minor": 2
}
