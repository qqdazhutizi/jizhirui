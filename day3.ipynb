{
 "cells": [
  {
   "cell_type": "markdown",
   "metadata": {},
   "source": [
    "# 一"
   ]
  },
  {
   "cell_type": "code",
   "execution_count": null,
   "metadata": {},
   "outputs": [],
   "source": [
    "import math\n",
    "a,b,c = input('Enter a , b , c: ').split(',')\n",
    "a = float(a)\n",
    "b = float(b)\n",
    "c = float(c)\n",
    "dt = b*b - 4*a*c\n",
    "\n",
    "if dt>0:\n",
    "    x1 = (-b + math.sqrt(b*b - 4*a*c))/2*a\n",
    "    x2 = (-b - math.sqrt(b*b - 4*a*c))/2*a\n",
    "    print('The roots are ',x1,' and ',x2)\n",
    "elif dt==0:\n",
    "    x1 = (-b + math.sqrt(b*b - 4*a*c))/2*a\n",
    "    print('The root is ',x1)\n",
    "elif dt< 0:\n",
    "    print('The equation has no real roots')\n",
    "else:\n",
    "    print('GG')"
   ]
  },
  {
   "cell_type": "markdown",
   "metadata": {},
   "source": [
    "# 二"
   ]
  },
  {
   "cell_type": "code",
   "execution_count": null,
   "metadata": {},
   "outputs": [],
   "source": [
    "import random\n",
    "\n",
    "x = random.randint(0,99)\n",
    "y = random.randint(0,99)\n",
    "\n",
    "print(x,'+',y,'=','?')\n",
    "\n",
    "daan = eval(input('Enter your daan'))\n",
    "\n",
    "if daan == x + y:\n",
    "    print('可以的，你很机智')\n",
    "else:\n",
    "    print('你真是个小傻X')"
   ]
  },
  {
   "cell_type": "markdown",
   "metadata": {},
   "source": [
    "# 三"
   ]
  },
  {
   "cell_type": "code",
   "execution_count": null,
   "metadata": {},
   "outputs": [],
   "source": [
    "today = eval(input('Enter today\\'s day'))\n",
    "days = eval(input('Enter the number of days elapsed since today:'))\n",
    "\n",
    "n = days%7\n",
    "\n",
    "future = today + n\n",
    "\n",
    "if future==0:\n",
    "    print('the future day is Sunday')\n",
    "elif future == 1:\n",
    "    print('the future day is Monday')\n",
    "elif future == 2:\n",
    "    print('the future day is Tuesday')\n",
    "elif future == 3:\n",
    "    print('the future day is Wednesday')\n",
    "elif future == 4:\n",
    "    print('the future day is Thusday')\n",
    "elif future == 5:\n",
    "    print('the future day is Friday')\n",
    "elif future == 6:\n",
    "    print('the future day is Saturday')\n",
    "\n"
   ]
  },
  {
   "cell_type": "markdown",
   "metadata": {},
   "source": [
    "# 四"
   ]
  },
  {
   "cell_type": "code",
   "execution_count": null,
   "metadata": {},
   "outputs": [],
   "source": [
    "a,b,c = input('输入三个数：').split(',')\n",
    "a = int(a)\n",
    "b = int(b)\n",
    "c = int(c)\n",
    "if a<=b and a<=c:\n",
    "    if b<=c:\n",
    "        print(a,b,c)\n",
    "    else:\n",
    "        print(a,c,b)\n",
    "elif b<=a and b<=c:\n",
    "    if a<=c:\n",
    "        print(b,a,c)\n",
    "    else:\n",
    "        print(b,c,a)\n",
    "elif c<=a and c<=b:\n",
    "    if a<=b:\n",
    "        print(c,a,b)\n",
    "    else:\n",
    "        print(c,b,a)\n"
   ]
  },
  {
   "cell_type": "markdown",
   "metadata": {},
   "source": [
    "# 五"
   ]
  },
  {
   "cell_type": "code",
   "execution_count": null,
   "metadata": {},
   "outputs": [],
   "source": [
    "w1,p1=input('Enter weight and price for package 1:').split(',')\n",
    "w2,p2=input('Enter weight and price for package 2:').split(',')\n",
    "\n",
    "w1=float(w1)\n",
    "w2=float(w2)\n",
    "p1=float(p1)\n",
    "p2=float(p2)\n",
    "\n",
    "if p1/w1 < p2/w2:\n",
    "    print('Package 1 has the better price')\n",
    "elif p1/w1 > p2/w2:\n",
    "    print('Package 2 has the better price')\n",
    "else:\n",
    "    print('two package have same price')"
   ]
  },
  {
   "cell_type": "markdown",
   "metadata": {},
   "source": [
    "# 六"
   ]
  },
  {
   "cell_type": "code",
   "execution_count": null,
   "metadata": {},
   "outputs": [],
   "source": [
    "year,month=input('Enter year and month').split(',')\n",
    "year = int(year)\n",
    "month = int(month)\n",
    "\n",
    "if (year%4 == 0 and year%100 !=0) or year%400 == 0:\n",
    "    if(month==2):\n",
    "        print('29')\n",
    "    elif (month == 1 or month == 3 or month == 5 or month == 7 or month == 8 or month == 10 or month == 12):\n",
    "        print('31')\n",
    "    else:\n",
    "        print('30')\n",
    "else:\n",
    "    if (month == 2):\n",
    "        print('28')\n",
    "    elif (month == 1 or month ==3 or month ==5 or month ==7 or month ==8 or month ==10 or month ==12):\n",
    "        print('31')\n",
    "    else:\n",
    "        print('30')\n"
   ]
  },
  {
   "cell_type": "markdown",
   "metadata": {},
   "source": [
    "# 七"
   ]
  },
  {
   "cell_type": "code",
   "execution_count": null,
   "metadata": {},
   "outputs": [],
   "source": [
    "import random\n",
    "yingbi=random.randint(0,1)\n",
    "if yingbi==0:\n",
    "    yingbi1='正'\n",
    "else:\n",
    "    yingbi1='反'\n",
    "print(yingbi)\n",
    "guess=input('猜正反！')\n",
    "if guess==yingbi1:\n",
    "    print('win')\n",
    "else:\n",
    "    print('lose')"
   ]
  },
  {
   "cell_type": "markdown",
   "metadata": {},
   "source": [
    "# 八"
   ]
  },
  {
   "cell_type": "code",
   "execution_count": null,
   "metadata": {},
   "outputs": [],
   "source": [
    "import random\n",
    "# ai=random.randint(0,2)\n",
    "# print(ai)\n",
    "str=0\n",
    "while(str!=3):\n",
    "    ai = random.randint(0, 2)\n",
    "    print(ai)\n",
    "    str = eval(input(\"0 石头，1 剪刀，2 布，3 退出：\"))\n",
    "    if (str==0 and ai==1) or (str==1 and ai==2) or (str==2 and ai==0):\n",
    "        print('you win!')\n",
    "    elif (str == ai):\n",
    "        print('ping ju')\n",
    "    else:\n",
    "        print('you lost!')"
   ]
  },
  {
   "cell_type": "markdown",
   "metadata": {},
   "source": [
    "# 九"
   ]
  },
  {
   "cell_type": "code",
   "execution_count": null,
   "metadata": {},
   "outputs": [],
   "source": [
    "year = eval(input('Enter year'))\n",
    "m = eval(input('Enter month'))\n",
    "q = eval(input('Enter day of month'))\n",
    "if m == 1:\n",
    "    year-=1\n",
    "    m = 13\n",
    "if m == 2:\n",
    "    year-=1\n",
    "    m = 14\n",
    "k = year%100\n",
    "j = year//100\n",
    "h=(q+((26*(m+1))//10)+k+k//4+j//4+5*j)%7\n",
    "print(h)\n",
    "\n",
    "if h==0:\n",
    "    print('星期六')\n",
    "elif h==1:\n",
    "    print('星期天')\n",
    "elif h == 2:\n",
    "    print('星期一')\n",
    "elif h==3:\n",
    "    print('星期二')\n",
    "elif h==4:\n",
    "    print('星期三')\n",
    "elif h==5:\n",
    "    print('星期四')\n",
    "elif h==6:\n",
    "    print('星期五')"
   ]
  },
  {
   "cell_type": "markdown",
   "metadata": {},
   "source": [
    "# 十"
   ]
  },
  {
   "cell_type": "code",
   "execution_count": null,
   "metadata": {},
   "outputs": [],
   "source": [
    "import random\n",
    "pai_type = random.randint(1,4)\n",
    "pai_num = random.randint(1,13)\n",
    "\n",
    "pai_type1=''\n",
    "pai_num1=''\n",
    "if 2 <= pai_num <= 10:\n",
    "    pai_num1=pai_num\n",
    "elif pai_num == 1:\n",
    "    pai_num1='Ace'\n",
    "elif pai_num == 11:\n",
    "    pai_num1='Jack'\n",
    "elif pai_num == 12:\n",
    "    pai_num1 = 'Queen'\n",
    "elif pai_num == 13:\n",
    "    pai_num1 = 'King'\n",
    "\n",
    "if pai_type == 1:\n",
    "    pai_type1='梅花'\n",
    "elif pai_type ==2:\n",
    "    pai_type1='红桃'\n",
    "elif pai_type == 3:\n",
    "    pai_type1 = '方片'\n",
    "elif pai_type == 4:\n",
    "    pai_type1 = '黑桃'\n",
    "\n",
    "print(pai_type1,pai_num1)"
   ]
  },
  {
   "cell_type": "markdown",
   "metadata": {},
   "source": [
    "# 十一"
   ]
  },
  {
   "cell_type": "code",
   "execution_count": null,
   "metadata": {},
   "outputs": [],
   "source": [
    "number = input('Enter three-digit int: ')\n",
    "\n",
    "if number[0]==number[2]:\n",
    "    print(number,' is a palindrome')\n",
    "else:\n",
    "    print(number,'is not a palindrome')"
   ]
  },
  {
   "cell_type": "markdown",
   "metadata": {},
   "source": [
    "# 十二"
   ]
  },
  {
   "cell_type": "code",
   "execution_count": null,
   "metadata": {},
   "outputs": [],
   "source": [
    "import math\n",
    "a,b,c=input('输入三个边长：').split(',')\n",
    "\n",
    "a=float(a)\n",
    "b=float(b)\n",
    "c=float(c)\n",
    "\n",
    "if (a+b>c and a+c>b and b+c>a) and ( math.fabs(a-b)<c and math.fabs(a-c)<b and math.fabs(b-c)<a):\n",
    "    print(a+b+c)\n",
    "else:\n",
    "    print('GG')"
   ]
  }
 ],
 "metadata": {
  "kernelspec": {
   "display_name": "Python 3",
   "language": "python",
   "name": "python3"
  },
  "language_info": {
   "codemirror_mode": {
    "name": "ipython",
    "version": 3
   },
   "file_extension": ".py",
   "mimetype": "text/x-python",
   "name": "python",
   "nbconvert_exporter": "python",
   "pygments_lexer": "ipython3",
   "version": "3.6.4"
  }
 },
 "nbformat": 4,
 "nbformat_minor": 2
}
