{
 "cells": [
  {
   "cell_type": "markdown",
   "metadata": {},
   "source": [
    "# 循环\n",
    "- 循环是一种控制语句块重复执行的结构\n",
    "- while  适用于广度遍历\n",
    "- for    开发中经常使用"
   ]
  },
  {
   "cell_type": "markdown",
   "metadata": {},
   "source": [
    "## while 循环\n",
    "- 当一个条件保持真的时候while循环重复执行语句\n",
    "- while 循环一定要有结束条件，否则很容易进入死循环\n",
    "- while 循环的语法是：\n",
    "\n",
    "    while loop-contunuation-conndition:\n",
    "\n",
    "        Statement"
   ]
  },
  {
   "cell_type": "code",
   "execution_count": 5,
   "metadata": {},
   "outputs": [
    {
     "name": "stdout",
     "output_type": "stream",
     "text": [
      "a b c d e f "
     ]
    }
   ],
   "source": [
    "a = 'abcdef'\n",
    "i = 0\n",
    "while i<6:\n",
    "    print(a[i],end=' ')\n",
    "    i+=1"
   ]
  },
  {
   "cell_type": "markdown",
   "metadata": {},
   "source": [
    "## 示例：\n",
    "sum = 0\n",
    "\n",
    "i = 1\n",
    "\n",
    "while i <10:\n",
    "\n",
    "    sum = sum + i\n",
    "    i = i + 1"
   ]
  },
  {
   "cell_type": "markdown",
   "metadata": {},
   "source": [
    "## 错误示例：\n",
    "sum = 0\n",
    "\n",
    "i = 1\n",
    "\n",
    "while i <10:\n",
    "\n",
    "    sum = sum + i\n",
    "\n",
    "i = i + 1\n",
    "- 一旦进入死循环可按 Ctrl + c 停止"
   ]
  },
  {
   "cell_type": "markdown",
   "metadata": {},
   "source": [
    "## EP：\n",
    "![](../Photo/143.png)\n",
    "![](../Photo/144.png)"
   ]
  },
  {
   "cell_type": "markdown",
   "metadata": {},
   "source": [
    "# 验证码\n",
    "- 随机产生四个字母的验证码，如果正确，输出验证码正确。如果错误，产生新的验证码，用户重新输入。\n",
    "- 验证码只能输入三次，如果三次都错，返回“别爬了，我们小网站没什么好爬的”\n",
    "- 密码登录，如果三次错误，账号被锁定\n"
   ]
  },
  {
   "cell_type": "code",
   "execution_count": null,
   "metadata": {},
   "outputs": [],
   "source": [
    "import matplotlib.pyplot as plt\n",
    "import random\n"
   ]
  },
  {
   "cell_type": "code",
   "execution_count": null,
   "metadata": {},
   "outputs": [],
   "source": [
    "import matplotlib.pyplot as plt\n",
    "import random\n",
    "i = 0\n",
    "x=[1,2,3,4,5,6,7,8,9,0,1,2,3,4,5,6,7,7,8,9,1]\n",
    "while i<20:\n",
    "    x[i]=random.random()*10//1\n",
    "    i+=1\n",
    "    t = random.randint(0,1)\n",
    "    if t == 0:\n",
    "        x[i] = x[i]//(-1)\n",
    "   # print(x[i])\n",
    "        \n",
    "y =[1,2,3,4,5,6,7,8,9,0,1,2,3,4,5,6,7,7,8,9,1]\n",
    "i=0\n",
    "while i<20:\n",
    "    y[i]=x[i]**2\n",
    "    i+=1\n",
    "    \n",
    "#list_ = [1,2,3,4,5,6,7]\n",
    "#list__ = [3,4,5,6,7,8,9]\n",
    "plt.plot(x,y)\n",
    "plt.show()"
   ]
  },
  {
   "cell_type": "code",
   "execution_count": null,
   "metadata": {},
   "outputs": [],
   "source": [
    "import random\n",
    "str1 = [random.randint(1,26)+64,random.randint(1,26)+64,random.randint(1,26)+64,random.randint(1,26)+64]\n",
    "i=0\n",
    "t=0\n",
    "while i<4:\n",
    "    t = random.randint(0,1)\n",
    "    if t==0:\n",
    "        str1[i] = chr(str1[i])\n",
    "    elif t==1:\n",
    "        str1[i] = chr(str1[i]+32)\n",
    "    i+=1\n",
    "    \n",
    "i=0 \n",
    "while i<4:\n",
    "    print(str1[i],end='')\n",
    "    i+=1\n",
    "\n",
    "\n",
    "str2 = input('请输入验证码')\n",
    "\n",
    "\n"
   ]
  },
  {
   "cell_type": "markdown",
   "metadata": {},
   "source": [
    "## 尝试死循环"
   ]
  },
  {
   "cell_type": "markdown",
   "metadata": {},
   "source": [
    "## 实例研究：猜数字\n",
    "- 你将要编写一个能够随机生成一个0到10之间的且包括两者的数字程序，这个程序\n",
    "- 提示用户连续地输入数字直到正确，且提示用户输入的数字是过高还是过低"
   ]
  },
  {
   "cell_type": "markdown",
   "metadata": {},
   "source": [
    "## 使用哨兵值来控制循环\n",
    "- 哨兵值来表明输入的结束\n",
    "- ![](../Photo/54.png)"
   ]
  },
  {
   "cell_type": "markdown",
   "metadata": {},
   "source": [
    "## 警告\n",
    "![](../Photo/55.png)"
   ]
  },
  {
   "cell_type": "markdown",
   "metadata": {},
   "source": [
    "## for 循环\n",
    "- Python的for 循环通过一个序列中的每个值来进行迭代\n",
    "- range(a,b,k)， a，b，k 必须为整数\n",
    "- a: start\n",
    "- b: end\n",
    "- k: step\n",
    "- 注意for 是循环一切可迭代对象，而不是只能使用range"
   ]
  },
  {
   "cell_type": "markdown",
   "metadata": {},
   "source": [
    "# 在Python里面一切皆对象"
   ]
  },
  {
   "cell_type": "markdown",
   "metadata": {},
   "source": [
    "## EP:\n",
    "- ![](../Photo/145.png)"
   ]
  },
  {
   "cell_type": "markdown",
   "metadata": {},
   "source": [
    "## 嵌套循环\n",
    "- 一个循环可以嵌套另一个循环\n",
    "- 每次循环外层时，内层循环都会被刷新重新完成循环\n",
    "- 也就是说，大循环执行一次，小循环会全部执行一次\n",
    "- 注意：\n",
    "> - 多层循环非常耗时\n",
    "  - 最多使用3层循环"
   ]
  },
  {
   "cell_type": "markdown",
   "metadata": {},
   "source": [
    "## EP：\n",
    "- 使用多层循环完成9X9乘法表\n",
    "- 显示50以内所有的素数"
   ]
  },
  {
   "cell_type": "code",
   "execution_count": 9,
   "metadata": {},
   "outputs": [
    {
     "name": "stdout",
     "output_type": "stream",
     "text": [
      "1*1=1 \t\n",
      "1*2=2 \t2*2=4 \t\n",
      "1*3=3 \t2*3=6 \t3*3=9 \t\n",
      "1*4=4 \t2*4=8 \t3*4=12 \t4*4=16 \t\n",
      "1*5=5 \t2*5=10 \t3*5=15 \t4*5=20 \t5*5=25 \t\n",
      "1*6=6 \t2*6=12 \t3*6=18 \t4*6=24 \t5*6=30 \t6*6=36 \t\n",
      "1*7=7 \t2*7=14 \t3*7=21 \t4*7=28 \t5*7=35 \t6*7=42 \t7*7=49 \t\n",
      "1*8=8 \t2*8=16 \t3*8=24 \t4*8=32 \t5*8=40 \t6*8=48 \t7*8=56 \t8*8=64 \t\n",
      "1*9=9 \t2*9=18 \t3*9=27 \t4*9=36 \t5*9=45 \t6*9=54 \t7*9=63 \t8*9=72 \t9*9=81 \t\n"
     ]
    }
   ],
   "source": [
    "for i in range(1,10):\n",
    "    for j in range(1,i+1):\n",
    "        print(j,'*',i,'=',i*j,end=' \\t',sep='')\n",
    "    print()        "
   ]
  },
  {
   "cell_type": "code",
   "execution_count": 6,
   "metadata": {},
   "outputs": [
    {
     "name": "stdout",
     "output_type": "stream",
     "text": [
      "1 是素数\n",
      "2 是素数\n",
      "3 是素数\n",
      "5 是素数\n",
      "7 是素数\n",
      "11 是素数\n",
      "13 是素数\n",
      "17 是素数\n",
      "19 是素数\n",
      "23 是素数\n",
      "29 是素数\n",
      "31 是素数\n",
      "37 是素数\n",
      "41 是素数\n",
      "43 是素数\n",
      "47 是素数\n"
     ]
    }
   ],
   "source": [
    "sum1 = 0\n",
    "for i in range(1,51):\n",
    "    for j in range(1,i+1):\n",
    "        if i%j == 0:\n",
    "            sum1+=1\n",
    "        if sum1 == 2:\n",
    "            break\n",
    "    if j == i:\n",
    "        print(i,'是素数')\n",
    "    sum1=0\n",
    "    "
   ]
  },
  {
   "cell_type": "markdown",
   "metadata": {},
   "source": [
    "## 关键字 break 和 continue\n",
    "- break 跳出循环，终止循环\n",
    "- continue 跳出此次循环，继续执行"
   ]
  },
  {
   "cell_type": "markdown",
   "metadata": {},
   "source": [
    "## 注意\n",
    "![](../Photo/56.png)\n",
    "![](../Photo/57.png)"
   ]
  },
  {
   "cell_type": "markdown",
   "metadata": {},
   "source": [
    "# Homework\n",
    "- 1 \n",
    "![](../Photo/58.png)"
   ]
  },
  {
   "cell_type": "code",
   "execution_count": 15,
   "metadata": {},
   "outputs": [
    {
     "name": "stdout",
     "output_type": "stream",
     "text": [
      "Enter an integer, end by 0: 1\n",
      "Enter an integer, end by 0: 2\n",
      "Enter an integer, end by 0: 3\n",
      "Enter an integer, end by 0: 4\n",
      "Enter an integer, end by 0: 5\n",
      "Enter an integer, end by 0: 6\n",
      "Enter an integer, end by 0: 7\n",
      "Enter an integer, end by 0: 8\n",
      "Enter an integer, end by 0: 9\n",
      "Enter an integer, end by 0: 10\n",
      "Enter an integer, end by 0: -5\n",
      "Enter an integer, end by 0: -2\n",
      "Enter an integer, end by 0: 0\n",
      "正数有： 10 个\n",
      "负数有： 2 个\n",
      "平均值为 4.0\n"
     ]
    }
   ],
   "source": [
    "number = eval(input('Enter an integer, end by 0: '))\n",
    "sum1 = 0\n",
    "sum1_1=0\n",
    "sum2 = 0\n",
    "while number != 0:\n",
    "    if number>0:\n",
    "        sum1 += 1\n",
    "        sum1_1 += number\n",
    "    elif number < 0:\n",
    "        sum2 += 1\n",
    "        sum1_1 += number\n",
    "    number = eval(input('Enter an integer, end by 0: '))\n",
    "print('正数有：',sum1,'个')\n",
    "print('负数有：',sum2,'个')\n",
    "print('平均值为',sum1_1/(sum1+sum2))"
   ]
  },
  {
   "cell_type": "markdown",
   "metadata": {},
   "source": [
    "- 2\n",
    "![](../Photo/59.png)"
   ]
  },
  {
   "cell_type": "code",
   "execution_count": 20,
   "metadata": {},
   "outputs": [
    {
     "name": "stdout",
     "output_type": "stream",
     "text": [
      "16288.946267774414\n",
      "18856.491423232354\n",
      "70207.39453239119\n"
     ]
    }
   ],
   "source": [
    "sum1 = 10000\n",
    "sum2 = 10000\n",
    "sum3 = 0\n",
    "for i in range(1,11):\n",
    "    sum1 += sum1*0.05\n",
    "for i in range(1,14):\n",
    "    sum2 += sum2*0.05\n",
    "    if i>=10:\n",
    "        sum3 += sum2\n",
    "print(sum1)\n",
    "print(sum2)\n",
    "print(sum3)"
   ]
  },
  {
   "cell_type": "markdown",
   "metadata": {},
   "source": [
    "- 3\n",
    "![](../Photo/58.png)"
   ]
  },
  {
   "cell_type": "code",
   "execution_count": null,
   "metadata": {},
   "outputs": [],
   "source": [
    "number = eval(input('Enter an integer, end by 0: '))\n",
    "sum1 = 0\n",
    "sum1_1=0\n",
    "sum2 = 0\n",
    "while number != 0:\n",
    "    if number>0:\n",
    "        sum1 += 1\n",
    "        sum1_1 += number\n",
    "    elif number < 0:\n",
    "        sum2 += 1\n",
    "        sum1_1 += number\n",
    "    number = eval(input('Enter an integer, end by 0: '))\n",
    "print('正数有：',sum1,'个')\n",
    "print('负数有：',sum2,'个')\n",
    "print('平均值为',sum1_1/(sum1+sum2))"
   ]
  },
  {
   "cell_type": "markdown",
   "metadata": {},
   "source": [
    "- 4\n",
    "![](../Photo/60.png)"
   ]
  },
  {
   "cell_type": "code",
   "execution_count": 26,
   "metadata": {},
   "outputs": [
    {
     "name": "stdout",
     "output_type": "stream",
     "text": [
      "30\t60\t90\t120\t150\t180\t210\t240\t270\t300\t\n",
      "330\t360\t390\t420\t450\t480\t510\t540\t570\t600\t\n",
      "630\t660\t690\t720\t750\t780\t810\t840\t870\t900\t\n",
      "930\t960\t990\t"
     ]
    }
   ],
   "source": [
    "i=30\n",
    "j=1\n",
    "while i*j<=1000:\n",
    "    print(i*j,end='\\t')\n",
    "    if j%10 == 0:\n",
    "        print()\n",
    "    j+=1"
   ]
  },
  {
   "cell_type": "markdown",
   "metadata": {},
   "source": [
    "- 5\n",
    "![](../Photo/61.png)"
   ]
  },
  {
   "cell_type": "code",
   "execution_count": 39,
   "metadata": {},
   "outputs": [
    {
     "name": "stdout",
     "output_type": "stream",
     "text": [
      "109\n",
      "22\n"
     ]
    }
   ],
   "source": [
    "n = 100\n",
    "while n**2<12000:\n",
    "    n+=1\n",
    "print(n-1)\n",
    "n = 20\n",
    "while n**3<12000:\n",
    "    n+=1\n",
    "print(n-1)"
   ]
  },
  {
   "cell_type": "markdown",
   "metadata": {},
   "source": [
    "- 6\n",
    "![](../Photo/62.png)"
   ]
  },
  {
   "cell_type": "code",
   "execution_count": 28,
   "metadata": {},
   "outputs": [
    {
     "data": {
      "text/plain": [
       "10500.0"
      ]
     },
     "execution_count": 28,
     "metadata": {},
     "output_type": "execute_result"
    }
   ],
   "source": [
    "10000*1.05"
   ]
  },
  {
   "cell_type": "code",
   "execution_count": null,
   "metadata": {},
   "outputs": [],
   "source": [
    "percent1 = 0.05\n",
    "while percent1 < = 0.08:\n",
    "    "
   ]
  },
  {
   "cell_type": "markdown",
   "metadata": {},
   "source": [
    "- 7\n",
    "![](../Photo/63.png)"
   ]
  },
  {
   "cell_type": "code",
   "execution_count": 38,
   "metadata": {},
   "outputs": [
    {
     "name": "stdout",
     "output_type": "stream",
     "text": [
      "11.397003949278504\n",
      "11.397003949278519\n"
     ]
    }
   ],
   "source": [
    "i=1\n",
    "sum1=0.0\n",
    "while i<=50000:\n",
    "    sum1+=1/i\n",
    "    i+=1\n",
    "print(sum1)\n",
    "\n",
    "\n",
    "j=50000\n",
    "sum1=0.0\n",
    "while j>0:\n",
    "    sum1= 1/j + sum1\n",
    "    j-=1\n",
    "print(sum1)"
   ]
  },
  {
   "cell_type": "markdown",
   "metadata": {},
   "source": [
    "- 8\n",
    "![](../Photo/64.png)"
   ]
  },
  {
   "cell_type": "code",
   "execution_count": 32,
   "metadata": {},
   "outputs": [
    {
     "name": "stdout",
     "output_type": "stream",
     "text": [
      "和为： 45.124450303050196\n"
     ]
    }
   ],
   "source": [
    "i = 1\n",
    "j = 3\n",
    "sum1=0\n",
    "while j<=99:\n",
    "    sum1+=i/j\n",
    "    i=j\n",
    "    j+=2\n",
    "print('和为：',sum1)"
   ]
  },
  {
   "cell_type": "markdown",
   "metadata": {},
   "source": [
    "- 9\n",
    "![](../Photo/65.png)"
   ]
  },
  {
   "cell_type": "code",
   "execution_count": 50,
   "metadata": {},
   "outputs": [
    {
     "ename": "KeyboardInterrupt",
     "evalue": "",
     "output_type": "error",
     "traceback": [
      "\u001b[1;31m---------------------------------------------------------------------------\u001b[0m",
      "\u001b[1;31mKeyboardInterrupt\u001b[0m                         Traceback (most recent call last)",
      "\u001b[1;32m<ipython-input-50-206d35f9d79a>\u001b[0m in \u001b[0;36m<module>\u001b[1;34m()\u001b[0m\n\u001b[0;32m     17\u001b[0m \u001b[0mpai\u001b[0m \u001b[1;33m=\u001b[0m \u001b[1;36m0.0\u001b[0m\u001b[1;33m\u001b[0m\u001b[0m\n\u001b[0;32m     18\u001b[0m \u001b[1;32mwhile\u001b[0m \u001b[0mi\u001b[0m\u001b[1;33m>\u001b[0m\u001b[1;36m0\u001b[0m\u001b[1;33m:\u001b[0m\u001b[1;33m\u001b[0m\u001b[0m\n\u001b[1;32m---> 19\u001b[1;33m     \u001b[0mpai\u001b[0m \u001b[1;33m=\u001b[0m \u001b[1;33m(\u001b[0m\u001b[1;33m(\u001b[0m\u001b[1;33m-\u001b[0m\u001b[1;36m1\u001b[0m\u001b[1;33m)\u001b[0m \u001b[1;33m**\u001b[0m \u001b[1;33m(\u001b[0m\u001b[0mi\u001b[0m\u001b[1;33m+\u001b[0m\u001b[1;36m1\u001b[0m\u001b[1;33m)\u001b[0m\u001b[1;33m)\u001b[0m\u001b[1;33m/\u001b[0m\u001b[1;33m(\u001b[0m\u001b[1;36m2\u001b[0m\u001b[1;33m*\u001b[0m\u001b[0mi\u001b[0m\u001b[1;33m-\u001b[0m\u001b[1;36m1\u001b[0m\u001b[1;33m)\u001b[0m \u001b[1;33m+\u001b[0m \u001b[0mpai\u001b[0m\u001b[1;33m\u001b[0m\u001b[0m\n\u001b[0m\u001b[0;32m     20\u001b[0m     \u001b[0mi\u001b[0m \u001b[1;33m-=\u001b[0m\u001b[1;36m1\u001b[0m\u001b[1;33m\u001b[0m\u001b[0m\n\u001b[0;32m     21\u001b[0m \u001b[0mprint\u001b[0m\u001b[1;33m(\u001b[0m\u001b[0mpai\u001b[0m\u001b[1;33m*\u001b[0m\u001b[1;36m4\u001b[0m\u001b[1;33m)\u001b[0m\u001b[1;33m\u001b[0m\u001b[0m\n",
      "\u001b[1;31mKeyboardInterrupt\u001b[0m: "
     ]
    }
   ],
   "source": [
    "i = 10000\n",
    "pai = 0.0\n",
    "while i>0:\n",
    "    pai = ((-1) ** (i+1))/(2*i-1) + pai\n",
    "    i -=1\n",
    "    \n",
    "print(pai*4)\n",
    "    \n",
    "i = 20000\n",
    "pai = 0.0\n",
    "while i>0:\n",
    "    pai = ((-1) ** (i+1))/(2*i-1) + pai\n",
    "    i -=1\n",
    "print(pai*4)\n",
    "\n",
    "i = 100000\n",
    "pai = 0.0\n",
    "while i>0:\n",
    "    pai = ((-1) ** (i+1))/(2*i-1) + pai\n",
    "    i -=1\n",
    "print(pai*4)\n"
   ]
  },
  {
   "cell_type": "markdown",
   "metadata": {},
   "source": [
    "- 10 \n",
    "![](../Photo/66.png)"
   ]
  },
  {
   "cell_type": "code",
   "execution_count": 65,
   "metadata": {},
   "outputs": [
    {
     "name": "stdout",
     "output_type": "stream",
     "text": [
      "6 是完全数\n",
      "28 是完全数\n",
      "496 是完全数\n",
      "8128 是完全数\n"
     ]
    }
   ],
   "source": [
    "number = 6\n",
    "while number < 10000:\n",
    "    sum1=0\n",
    "    for i in range(1,number):\n",
    "        if number % i == 0:\n",
    "            sum1+=i \n",
    "    if sum1 == number:\n",
    "        print(number,'是完全数')\n",
    "    number += 1\n",
    "    \n",
    "    "
   ]
  },
  {
   "cell_type": "markdown",
   "metadata": {},
   "source": [
    "- 11\n",
    "![](../Photo/67.png)"
   ]
  },
  {
   "cell_type": "code",
   "execution_count": 68,
   "metadata": {},
   "outputs": [
    {
     "name": "stdout",
     "output_type": "stream",
     "text": [
      "1 2\n",
      "1 3\n",
      "1 4\n",
      "1 5\n",
      "1 6\n",
      "1 7\n",
      "2 1\n",
      "2 3\n",
      "2 4\n",
      "2 5\n",
      "2 6\n",
      "2 7\n",
      "3 1\n",
      "3 2\n",
      "3 4\n",
      "3 5\n",
      "3 6\n",
      "3 7\n",
      "4 1\n",
      "4 2\n",
      "4 3\n",
      "4 5\n",
      "4 6\n",
      "4 7\n",
      "5 1\n",
      "5 2\n",
      "5 3\n",
      "5 4\n",
      "5 6\n",
      "5 7\n",
      "6 1\n",
      "6 2\n",
      "6 3\n",
      "6 4\n",
      "6 5\n",
      "6 7\n",
      "7 1\n",
      "7 2\n",
      "7 3\n",
      "7 4\n",
      "7 5\n",
      "7 6\n",
      "-7\n"
     ]
    }
   ],
   "source": [
    "sum1 = 0\n",
    "for i in range(1,8):\n",
    "    for j in range (1,8):\n",
    "        if i != j:\n",
    "            print(i,j)\n",
    "            sum1 += 1\n",
    "print(sum1)"
   ]
  },
  {
   "cell_type": "markdown",
   "metadata": {},
   "source": [
    "- 12\n",
    "![](../Photo/68.png)"
   ]
  },
  {
   "cell_type": "code",
   "execution_count": null,
   "metadata": {},
   "outputs": [],
   "source": []
  },
  {
   "cell_type": "code",
   "execution_count": 59,
   "metadata": {},
   "outputs": [
    {
     "data": {
      "text/plain": [
       "386.36"
      ]
     },
     "execution_count": 59,
     "metadata": {},
     "output_type": "execute_result"
    }
   ],
   "source": [
    "1 **2 + 2**2 + 3**2 + 5.5 *2 + 5.6 **2 + 6 **2 + 7**2 + 8**2 + 9 **2 + 10 **2"
   ]
  },
  {
   "cell_type": "code",
   "execution_count": 60,
   "metadata": {},
   "outputs": [
    {
     "data": {
      "text/plain": [
       "57.1"
      ]
     },
     "execution_count": 60,
     "metadata": {},
     "output_type": "execute_result"
    }
   ],
   "source": [
    "1  + 2 + 3 + 5.5  + 5.6 + 6 + 7 + 8+ 9  + 10"
   ]
  }
 ],
 "metadata": {
  "kernelspec": {
   "display_name": "Python 3",
   "language": "python",
   "name": "python3"
  },
  "language_info": {
   "codemirror_mode": {
    "name": "ipython",
    "version": 3
   },
   "file_extension": ".py",
   "mimetype": "text/x-python",
   "name": "python",
   "nbconvert_exporter": "python",
   "pygments_lexer": "ipython3",
   "version": "3.6.4"
  }
 },
 "nbformat": 4,
 "nbformat_minor": 2
}
